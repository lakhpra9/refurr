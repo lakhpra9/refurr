{
 "cells": [
  {
   "cell_type": "code",
   "execution_count": 5,
   "id": "3a705457",
   "metadata": {},
   "outputs": [],
   "source": [
    "import glob\n",
    "import os"
   ]
  },
  {
   "cell_type": "code",
   "execution_count": 7,
   "id": "3b087dd5",
   "metadata": {},
   "outputs": [],
   "source": [
    "f = [os.path.basename(f) for f in glob.glob('../templates/_common/*')]"
   ]
  },
  {
   "cell_type": "code",
   "execution_count": 11,
   "id": "a0b21757",
   "metadata": {},
   "outputs": [],
   "source": [
    "a = [f'{{% include \"_common/{i}\" %}}' for i in f]"
   ]
  },
  {
   "cell_type": "code",
   "execution_count": 13,
   "id": "4967809c",
   "metadata": {},
   "outputs": [
    {
     "name": "stdout",
     "output_type": "stream",
     "text": [
      "{% include \"_common/_footer.html\" %}\n",
      "{% include \"_common/_header.html\" %}\n",
      "{% include \"_common/_navbar.html\" %}\n",
      "{% include \"_common/_preloader.html\" %}\n",
      "{% include \"_common/_scripts.html\" %}\n"
     ]
    }
   ],
   "source": [
    "for i in a:\n",
    "    print(i)"
   ]
  },
  {
   "cell_type": "code",
   "execution_count": null,
   "id": "66ac64bc",
   "metadata": {},
   "outputs": [],
   "source": []
  }
 ],
 "metadata": {
  "kernelspec": {
   "display_name": "Python 3 (ipykernel)",
   "language": "python",
   "name": "python3"
  },
  "language_info": {
   "codemirror_mode": {
    "name": "ipython",
    "version": 3
   },
   "file_extension": ".py",
   "mimetype": "text/x-python",
   "name": "python",
   "nbconvert_exporter": "python",
   "pygments_lexer": "ipython3",
   "version": "3.10.0"
  }
 },
 "nbformat": 4,
 "nbformat_minor": 5
}
