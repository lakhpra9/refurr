{
 "cells": [
  {
   "cell_type": "code",
   "execution_count": 30,
   "id": "8e77a889",
   "metadata": {},
   "outputs": [],
   "source": [
    "import glob\n",
    "import os\n",
    "\n",
    "folder_names = [os.path.basename(f) for f in glob.glob(\"../refurr/mystatic/assets/img/*\")]"
   ]
  },
  {
   "cell_type": "code",
   "execution_count": 31,
   "id": "be1e5d93",
   "metadata": {},
   "outputs": [],
   "source": [
    "images = []\n",
    "\n",
    "for i in folder_names:\n",
    "    for f in glob.glob(\"../refurr/mystatic/assets/img/{}/*\".format(i)):\n",
    "        file = os.path.basename(f)\n",
    "        images.append(file)"
   ]
  },
  {
   "cell_type": "code",
   "execution_count": 32,
   "id": "78273474",
   "metadata": {},
   "outputs": [
    {
     "data": {
      "text/plain": [
       "['../refurr/mystatic/assets/img/about\\\\ab-01.jpg',\n",
       " '../refurr/mystatic/assets/img/about\\\\ab-02.jpg',\n",
       " '../refurr/mystatic/assets/img/about\\\\about-b.png',\n",
       " '../refurr/mystatic/assets/img/about\\\\c-icon-01.png']"
      ]
     },
     "execution_count": 32,
     "metadata": {},
     "output_type": "execute_result"
    }
   ],
   "source": [
    "glob.glob(\"../refurr/mystatic/assets/img/about/*\")"
   ]
  },
  {
   "cell_type": "code",
   "execution_count": 42,
   "id": "7a25387c",
   "metadata": {},
   "outputs": [
    {
     "data": {
      "text/plain": [
       "[]"
      ]
     },
     "execution_count": 42,
     "metadata": {},
     "output_type": "execute_result"
    }
   ],
   "source": [
    "[i for i in images if 'img-43.jpg' in i]"
   ]
  },
  {
   "cell_type": "code",
   "execution_count": 33,
   "id": "16232dfc",
   "metadata": {
    "scrolled": true
   },
   "outputs": [
    {
     "data": {
      "text/plain": [
       "['ab-01.jpg',\n",
       " 'ab-02.jpg',\n",
       " 'about-b.png',\n",
       " 'c-icon-01.png',\n",
       " 'author-sm-1.jpeg',\n",
       " '404.png',\n",
       " 'banner-1.jpg',\n",
       " 'banner-10.jpg',\n",
       " 'banner-11.jpg',\n",
       " 'banner-12.jpg',\n",
       " 'banner-13.jpg',\n",
       " 'banner-14.jpg',\n",
       " 'banner-15.jpg',\n",
       " 'banner-16.jpg',\n",
       " 'banner-17.jpg',\n",
       " 'banner-18.jpg',\n",
       " 'banner-19.jpg',\n",
       " 'banner-2.jpg',\n",
       " 'banner-3.jpg',\n",
       " 'banner-4.jpg',\n",
       " 'banner-5.jpg',\n",
       " 'banner-6.jpg',\n",
       " 'banner-7.jpg',\n",
       " 'banner-8.jpg',\n",
       " 'banner-9.jpg',\n",
       " 'page-banner-1.jpg',\n",
       " 'page-banner-2.jpg',\n",
       " 'page-banner-3.jpg',\n",
       " 'page-banner-4.jpg',\n",
       " 'sl-banner-sm.png',\n",
       " 'sl-banner.jpg',\n",
       " 'about-bg.png',\n",
       " 'img-4.png',\n",
       " 'img-5.png',\n",
       " 'menu-item.jpg',\n",
       " 'blog-thumb.jpg',\n",
       " 'incen.jpg',\n",
       " 'news-author.jpg',\n",
       " 'p-author-1.jpg',\n",
       " 'p-author-2.jpg',\n",
       " 'p-author-3.jpg',\n",
       " 'sm-b-1.jpg',\n",
       " 'sm-b-2.jpg',\n",
       " 'sm-b-3.jpg',\n",
       " 'sm-b-4.jpg',\n",
       " 'sm-b-5.jpg',\n",
       " 'sm-b-6.jpg',\n",
       " 'sm-b2-1.jpg',\n",
       " 'sm-b2-2.jpg',\n",
       " 'sm-b2-3.jpg',\n",
       " 'sm-b2-4.jpg',\n",
       " 'sm-b2-5.jpg',\n",
       " 'sm-b2-6.jpg',\n",
       " 'sponsor-3.jpg',\n",
       " 'app_android.png',\n",
       " 'app_ios.png',\n",
       " 'brand-1.jpg',\n",
       " 'brand-2.jpg',\n",
       " 'brand-3.jpg',\n",
       " 'brand-4.jpg',\n",
       " 'brand-5.jpg',\n",
       " 'brand-6.jpg',\n",
       " '20.jpg',\n",
       " 'shop-p-10.jpg',\n",
       " 'shop-p-11.jpg',\n",
       " 'cat-1.jpg',\n",
       " 'cat-2.jpg',\n",
       " 'cat-3.jpg',\n",
       " 'cat-4.jpg',\n",
       " 'cat-5.jpg',\n",
       " 'cat-6.jpg',\n",
       " 'fp-1.jpg',\n",
       " 'fp-10.jpg',\n",
       " 'fp-11.jpg',\n",
       " 'fp-12.jpg',\n",
       " 'fp-2.jpg',\n",
       " 'fp-3.jpg',\n",
       " 'fp-4.jpg',\n",
       " 'fp-5.jpg',\n",
       " 'fp-6.jpg',\n",
       " 'fp-7.jpg',\n",
       " 'fp-8.jpg',\n",
       " 'fp-9.jpg',\n",
       " 'fpb-1.jpg',\n",
       " 'fpb-2.jpg',\n",
       " 'fpsm-1.jpg',\n",
       " 'fpsm-2.jpg',\n",
       " 'product-content-1.jpg',\n",
       " 'product-content-2.jpg',\n",
       " 'product-content-3.jpg',\n",
       " 'product-content-4.jpg',\n",
       " 'product-content-5.png',\n",
       " 'product-content-6.png',\n",
       " 'gal-1.jpg',\n",
       " 'gal-2.jpg',\n",
       " 'gal-3.jpg',\n",
       " 'gal-4.jpg',\n",
       " 'gal-5.jpg',\n",
       " 'gal-6.jpg',\n",
       " 'location-1.jpg',\n",
       " 'location-2.jpg',\n",
       " 'location-3.jpg',\n",
       " 'location-4.jpg',\n",
       " 'logo-white.png',\n",
       " 'logo1.svg',\n",
       " 'payment.png',\n",
       " 'nav',\n",
       " 'sm-1.jpg',\n",
       " 'sm-10.jpg',\n",
       " 'sm-11.jpg',\n",
       " 'sm-2.jpg',\n",
       " 'sm-3.jpg',\n",
       " 'sm-4.jpg',\n",
       " 'sm-5.jpg',\n",
       " 'sm-6.jpg',\n",
       " 'sm-7.jpg',\n",
       " 'sm-8.jpg',\n",
       " 'sm-9.jpg',\n",
       " 'tp-1.jpg',\n",
       " 'tp-10.jpg',\n",
       " 'tp-11.jpg',\n",
       " 'tp-12.jpg',\n",
       " 'tp-13.jpg',\n",
       " 'tp-14.jpg',\n",
       " 'tp-15.jpg',\n",
       " 'tp-16.jpg',\n",
       " 'tp-17.jpg',\n",
       " 'tp-18.jpg',\n",
       " 'tp-19.jpg',\n",
       " 'tp-2.jpg',\n",
       " 'tp-20.jpg',\n",
       " 'tp-21.jpg',\n",
       " 'tp-22.jpg',\n",
       " 'tp-23.jpg',\n",
       " 'tp-24.jpg',\n",
       " 'tp-25.jpg',\n",
       " 'tp-26.jpg',\n",
       " 'tp-27.jpg',\n",
       " 'tp-28.jpg',\n",
       " 'tp-3.jpg',\n",
       " 'tp-4.jpg',\n",
       " 'tp-5.jpg',\n",
       " 'tp-6.jpg',\n",
       " 'tp-7.jpg',\n",
       " 'tp-8.jpg',\n",
       " 'tp-9.jpg',\n",
       " 'quick-nav-1.jpg',\n",
       " 'quick-nav-2.jpg',\n",
       " 'quick-nav-3.jpg',\n",
       " 'quick-nav-4.jpg',\n",
       " 'quick-view-1.jpg',\n",
       " 'quick-view-2.jpg',\n",
       " 'quick-view-3.jpg',\n",
       " 'quick-view-4.jpg',\n",
       " '01-slide-1.jpg',\n",
       " '01-slide-2.jpg',\n",
       " '01-slide-3.jpg',\n",
       " '02-slide-1.jpg',\n",
       " '02-slide-2.jpg',\n",
       " '02-slide-3.jpg',\n",
       " '03-slide-1.jpg',\n",
       " '03-slide-2.jpg',\n",
       " '03-slide-3.jpg',\n",
       " 'person-3.jpg',\n",
       " 'person-4.jpg',\n",
       " 'person-5.jpg']"
      ]
     },
     "execution_count": 33,
     "metadata": {},
     "output_type": "execute_result"
    }
   ],
   "source": [
    "images"
   ]
  },
  {
   "cell_type": "code",
   "execution_count": 40,
   "id": "3dc4deba",
   "metadata": {},
   "outputs": [
    {
     "name": "stdout",
     "output_type": "stream",
     "text": [
      "File not found\n"
     ]
    }
   ],
   "source": [
    "path = r'C:/Users/Param/Documents/IT Solutions/Projects/downloaded websites/dukamarket/**/'\n",
    "# glob.glob(path)\n",
    "\n",
    "import glob\n",
    "\n",
    "filename = \"ab-01.jpg\"\n",
    "file_path = glob.glob(path + filename, recursive=True)\n",
    "\n",
    "if file_path:\n",
    "    print(f\"Found file at {file_path[0]}\")\n",
    "else:\n",
    "    print(\"File not found\")"
   ]
  },
  {
   "cell_type": "code",
   "execution_count": null,
   "id": "0332bd4a",
   "metadata": {},
   "outputs": [],
   "source": [
    "import glob\n",
    "\n",
    "filename = \"ab-01.jpg\"\n",
    "file_path = glob.glob(\"./**/\" + filename, recursive=True)\n",
    "\n",
    "if file_path:\n",
    "    print(f\"Found file at {file_path[0]}\")\n",
    "else:\n",
    "    print(\"File not found\")"
   ]
  }
 ],
 "metadata": {
  "kernelspec": {
   "display_name": "Python 3 (ipykernel)",
   "language": "python",
   "name": "python3"
  },
  "language_info": {
   "codemirror_mode": {
    "name": "ipython",
    "version": 3
   },
   "file_extension": ".py",
   "mimetype": "text/x-python",
   "name": "python",
   "nbconvert_exporter": "python",
   "pygments_lexer": "ipython3",
   "version": "3.10.0"
  }
 },
 "nbformat": 4,
 "nbformat_minor": 5
}
